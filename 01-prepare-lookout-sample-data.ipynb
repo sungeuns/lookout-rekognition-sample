{
 "cells": [
  {
   "cell_type": "markdown",
   "id": "f8224dbe-37c1-4273-8d75-73208b827757",
   "metadata": {},
   "source": [
    "## Lookout for vision 테스트용 데이터셋 준비\n",
    "\n",
    "- 참고 : https://catalog.us-east-1.prod.workshops.aws/workshops/cbfb2625-416f-45e3-88b2-b68a1d25dab2/en-US/lab1/step2"
   ]
  },
  {
   "cell_type": "code",
   "execution_count": null,
   "id": "c9b48d43-34cf-421b-8841-efbf2aefef22",
   "metadata": {
    "tags": []
   },
   "outputs": [],
   "source": [
    "import sagemaker"
   ]
  },
  {
   "cell_type": "code",
   "execution_count": null,
   "id": "97e01ec2-96d7-4a8f-83bf-062741b46b4d",
   "metadata": {
    "tags": []
   },
   "outputs": [],
   "source": [
    "sagemaker_session = sagemaker.Session()\n",
    "bucket = sagemaker_session.default_bucket()\n",
    "print(f\"bucket: {bucket}\")"
   ]
  },
  {
   "cell_type": "code",
   "execution_count": null,
   "id": "6a65d6da-efa0-4db6-b1ad-73d90e01826d",
   "metadata": {
    "tags": []
   },
   "outputs": [],
   "source": [
    "!git clone https://github.com/aws-samples/amazon-lookout-for-vision.git"
   ]
  },
  {
   "cell_type": "code",
   "execution_count": null,
   "id": "d70ed8da-c8a6-4a99-9d2f-66a56a91a4e4",
   "metadata": {
    "tags": []
   },
   "outputs": [],
   "source": [
    "repo_dir = \"amazon-lookout-for-vision\"\n",
    "train_path = f\"{repo_dir}/circuitboard/train/\"\n",
    "test_path = f\"{repo_dir}/circuitboard/test/\"\n",
    "extra_path = f\"{repo_dir}/circuitboard/extra_images/\""
   ]
  },
  {
   "cell_type": "code",
   "execution_count": null,
   "id": "22f5724d-4322-49d7-813c-7957d93ad4a6",
   "metadata": {
    "tags": []
   },
   "outputs": [],
   "source": [
    "s3_target_dir = f\"s3://{bucket}/lookout-dev/dataset\""
   ]
  },
  {
   "cell_type": "code",
   "execution_count": null,
   "id": "b36924a7-76b9-45cb-87c0-96919db31031",
   "metadata": {
    "tags": []
   },
   "outputs": [],
   "source": [
    "!aws s3 cp --recursive {train_path} {s3_target_dir}/train\n",
    "!aws s3 cp --recursive {test_path} {s3_target_dir}/test\n",
    "!aws s3 cp --recursive {extra_path} {s3_target_dir}/extra_images"
   ]
  },
  {
   "cell_type": "markdown",
   "id": "8e128d83-bc3c-49f5-8395-7d971dace07e",
   "metadata": {},
   "source": [
    "### 데이터 업로드 완료\n",
    "\n",
    "- 데이터 업로드가 정상적으로 완료 되었으면, [워크샵](https://catalog.us-east-1.prod.workshops.aws/workshops/cbfb2625-416f-45e3-88b2-b68a1d25dab2/en-US/lab1/step3) 내용을 참고해서 lookout for vision 을 AWS console에서 테스트해 봅니다."
   ]
  },
  {
   "cell_type": "code",
   "execution_count": null,
   "id": "592f56f4-d8f6-4cfa-91df-961584541984",
   "metadata": {
    "tags": []
   },
   "outputs": [],
   "source": [
    "print(s3_target_dir)"
   ]
  },
  {
   "cell_type": "code",
   "execution_count": null,
   "id": "bf20e591-9560-4654-ac23-516da227bdca",
   "metadata": {
    "tags": []
   },
   "outputs": [],
   "source": [
    "%store s3_target_dir"
   ]
  },
  {
   "cell_type": "code",
   "execution_count": null,
   "id": "36e8ad9e-7f9e-431c-b562-6cf4d3b796b1",
   "metadata": {},
   "outputs": [],
   "source": []
  }
 ],
 "metadata": {
  "kernelspec": {
   "display_name": "conda_python3",
   "language": "python",
   "name": "conda_python3"
  },
  "language_info": {
   "codemirror_mode": {
    "name": "ipython",
    "version": 3
   },
   "file_extension": ".py",
   "mimetype": "text/x-python",
   "name": "python",
   "nbconvert_exporter": "python",
   "pygments_lexer": "ipython3",
   "version": "3.10.8"
  }
 },
 "nbformat": 4,
 "nbformat_minor": 5
}
